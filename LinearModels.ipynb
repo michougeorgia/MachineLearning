{
  "cells": [
    {
      "cell_type": "markdown",
      "metadata": {
        "id": "aeF4qTmfveeb"
      },
      "source": [
        "## About iPython Notebooks ##\n",
        "\n",
        "iPython Notebooks are interactive coding environments embedded in a webpage. You will be using iPython notebooks in this class. Make sure you fill in any place that says `# BEGIN CODE HERE #END CODE HERE`. After writing your code, you can run the cell by either pressing \"SHIFT\"+\"ENTER\" or by clicking on \"Run\" (denoted by a play symbol). Before you turn this problem in, make sure everything runs as expected. First, **restart the kernel** (in the menubar, select Kernel$\\rightarrow$Restart) and then **run all cells** (in the menubar, select Cell$\\rightarrow$Run All).\n",
        "\n",
        " **What you need to remember:**\n",
        "\n",
        "- Run your cells using SHIFT+ENTER (or \"Run cell\")\n",
        "- Write code in the designated areas using Python 3 only\n",
        "- Do not modify the code outside of the designated areas\n",
        "- In some cases you will also need to explain the results. There will also be designated areas for that.\n",
        "\n",
        "Fill in your **NAME** and **AEM** below:"
      ]
    },
    {
      "cell_type": "code",
      "execution_count": null,
      "metadata": {
        "id": "ZCY3tJjnveei"
      },
      "outputs": [],
      "source": [
        "NAME = \"Γεωργία Μίχου\"\n",
        "AEM = \"3828\""
      ]
    },
    {
      "cell_type": "markdown",
      "metadata": {
        "id": "lpED3Vwlveek"
      },
      "source": [
        "---"
      ]
    },
    {
      "cell_type": "markdown",
      "metadata": {
        "id": "0LK7HlL9r2k1"
      },
      "source": [
        "# Assignment 1 - Linear Models #"
      ]
    },
    {
      "cell_type": "markdown",
      "metadata": {
        "id": "Ww0lVWmTsBOF"
      },
      "source": [
        "Welcome to your first assignment. This exercise gives you a brief introduction to Python and the fundamental libraries for machine learning. It also gives you a wide understanding on how linear models work.  "
      ]
    },
    {
      "cell_type": "markdown",
      "metadata": {
        "id": "gK7GYZ6ouIGC"
      },
      "source": [
        "After this assignment you will:\n",
        "- Be able to use iPython Notebooks\n",
        "- Be able to use basic numpy and pandas functions\n",
        "- Be able to build your first linear model from scratch\n",
        "- Be able to use the basic functions of scikit-learn"
      ]
    },
    {
      "cell_type": "markdown",
      "metadata": {
        "id": "lzpRolujz4zs"
      },
      "source": [
        "## 1. Numpy & Pandas ##\n",
        "\n",
        "The [**NumPy**](https://numpy.org/) library is the core library for scientific computing in Python. It provides a high-performance multidimensional array object, and tools for working with these arrays.\n",
        "\n",
        "The [**Pandas**](https://pandas.pydata.org/) library is built on NumPy and provides easy-to-use data structures and data analysis tools for the Python programming language.\n",
        "\n",
        "Feel free to look at the documentation ([NumPy Doc](https://numpy.org/doc/1.18/user/quickstart.html) & [Pandas Doc](https://pandas.pydata.org/docs/)) of those libraries troughout this assignment.\n",
        "\n",
        "As a convention we always import the libraries as follows:"
      ]
    },
    {
      "cell_type": "code",
      "execution_count": null,
      "metadata": {
        "id": "ydtbUhRK1Mwd"
      },
      "outputs": [],
      "source": [
        "# Run this cell\n",
        "import numpy as np\n",
        "import pandas as pd"
      ]
    },
    {
      "cell_type": "markdown",
      "metadata": {
        "id": "R047IOKS0jbm"
      },
      "source": [
        "### 1.1 The very basic of NumPy ### (1 points)"
      ]
    },
    {
      "cell_type": "markdown",
      "metadata": {
        "id": "dDa8wbkp3tcJ"
      },
      "source": [
        "**1.1.1 Exercise**: Create a 3-dimensional *NumPy* array (3x5) which contains the numbers 1-15 on variable 'a'. Moreover, create another *NumPy* array of dimensions (3x2) of random values (0 to 1) using the fucntions np.random.random on variable 'b'. *(An example of an expected outcome is also provided)*\n",
        "\n"
      ]
    },
    {
      "cell_type": "code",
      "execution_count": null,
      "metadata": {
        "colab": {
          "base_uri": "https://localhost:8080/"
        },
        "id": "sRd0XYXap0KQ",
        "outputId": "a345b0f2-ecc9-4364-8fb5-511765110261"
      },
      "outputs": [
        {
          "name": "stdout",
          "output_type": "stream",
          "text": [
            "[[ 1  2  3  4  5]\n",
            " [ 6  7  8  9 10]\n",
            " [11 12 13 14 15]]\n",
            "[[0.37454012 0.95071431]\n",
            " [0.73199394 0.59865848]\n",
            " [0.15601864 0.15599452]]\n"
          ]
        }
      ],
      "source": [
        "np.random.seed(42)\n",
        "# BEGIN CODE HERE\n",
        "a = np.array([list(range(1,6)),list(range(6,11)),list(range(11,16))])\n",
        "b = np.random.random((3,2))\n",
        "# END CODE HERE\n",
        "print(a)\n",
        "print(b)"
      ]
    },
    {
      "cell_type": "markdown",
      "metadata": {
        "id": "eEsIzDKU63UA"
      },
      "source": [
        "**1.1.2 Exercise**: Perform the dot product of 'a' transpose with 'b' and assign the result to variable 'c' using Numpy. *(An example of an expected outcome is also provided, the produced matrix should have 5x2 dimensions)*"
      ]
    },
    {
      "cell_type": "code",
      "execution_count": null,
      "metadata": {
        "colab": {
          "base_uri": "https://localhost:8080/"
        },
        "id": "Z99j4XAs5Xwu",
        "outputId": "83aae311-a356-47ef-a7b5-4feba56b947b"
      },
      "outputs": [
        {
          "name": "stdout",
          "output_type": "stream",
          "text": [
            "[[ 6.48270881  6.25860494]\n",
            " [ 7.74526152  7.96397225]\n",
            " [ 9.00781422  9.66933956]\n",
            " [10.27036692 11.37470687]\n",
            " [11.53291962 13.08007418]]\n"
          ]
        }
      ],
      "source": [
        "# BEGIN CODE HERE\n",
        "c = np.dot(a.T,b)\n",
        "# END CODE HERE\n",
        "print(c)"
      ]
    },
    {
      "cell_type": "markdown",
      "metadata": {
        "id": "tySai5aIFVJC"
      },
      "source": [
        "Two common numpy functions used are [np.shape](https://docs.scipy.org/doc/numpy/reference/generated/numpy.ndarray.shape.html) and [np.reshape()](https://docs.scipy.org/doc/numpy/reference/generated/numpy.reshape.html).\n",
        "- X.shape is used to get the shape (dimension) of a matrix/vector X.\n",
        "- X.reshape(...) is used to reshape X into some other dimension."
      ]
    },
    {
      "cell_type": "markdown",
      "metadata": {
        "id": "BlzbLWeEyvo7"
      },
      "source": [
        "**1.1.3 Exercise**: Use the function **shape** to print the shape of variable **c** and the function **reshape** to change the dimensions of **c** from 5x2 to 1x10. *(An example of an expected outcome is also provided)*"
      ]
    },
    {
      "cell_type": "code",
      "execution_count": null,
      "metadata": {
        "colab": {
          "base_uri": "https://localhost:8080/"
        },
        "id": "5QJUgXPIzN6Z",
        "outputId": "5156ee02-de9a-4429-d574-da6a487a6fc1"
      },
      "outputs": [
        {
          "name": "stdout",
          "output_type": "stream",
          "text": [
            "shape_random_array: (5, 2)\n",
            "reshaped_one_array: [[ 6.48270881  6.25860494  7.74526152  7.96397225  9.00781422  9.66933956\n",
            "  10.27036692 11.37470687 11.53291962 13.08007418]]\n"
          ]
        }
      ],
      "source": [
        "np.random.seed(42)\n",
        "# BEGIN CODE HERE\n",
        "shape_c =  c.shape\n",
        "reshaped_c = c.reshape((1,10))\n",
        "#END CODE HERE\n",
        "print(\"shape_random_array:\", shape_c)\n",
        "print(\"reshaped_one_array:\", reshaped_c)"
      ]
    },
    {
      "cell_type": "markdown",
      "metadata": {
        "id": "o3DYNNXZIbYd"
      },
      "source": [
        "**1.1.4 Exercise**: Create an array of 9 evenly spaced values from 0 to 5 using the **np.linspace()** function. (An example of an expected outcome is also provided)"
      ]
    },
    {
      "cell_type": "code",
      "execution_count": null,
      "metadata": {
        "colab": {
          "base_uri": "https://localhost:8080/"
        },
        "id": "Sv_Z5G63QxOd",
        "outputId": "32ac6894-7e03-4af9-8665-e6c9dd10cda2"
      },
      "outputs": [
        {
          "name": "stdout",
          "output_type": "stream",
          "text": [
            "x: [0.    0.625 1.25  1.875 2.5   3.125 3.75  4.375 5.   ]\n"
          ]
        }
      ],
      "source": [
        "# BEGIN CODE HERE\n",
        "x = np.linspace(0,5,9,True,False,None,0)\n",
        "\n",
        "#END CODE HERE\n",
        "print(\"x: \" + str(x))"
      ]
    },
    {
      "cell_type": "markdown",
      "metadata": {
        "id": "JRhZvHsYvFjV"
      },
      "source": [
        "**1.1.5 Exercise**: Create a dictionary (hashmap) containing two keys: *lin_space*, *dot_product* and assign them the variables **x**, and **c**, respectively. Then, you should retrieve the values of both keys and print them. (An example of an expected outcome is also provided)"
      ]
    },
    {
      "cell_type": "code",
      "execution_count": null,
      "metadata": {
        "colab": {
          "base_uri": "https://localhost:8080/"
        },
        "id": "KEjffLTyv0IO",
        "outputId": "e864c2f2-4ee8-4ff3-9cac-6ab6da79cccc"
      },
      "outputs": [
        {
          "name": "stdout",
          "output_type": "stream",
          "text": [
            "[0.    0.625 1.25  1.875 2.5   3.125 3.75  4.375 5.   ]\n",
            "[[ 6.48270881  6.25860494]\n",
            " [ 7.74526152  7.96397225]\n",
            " [ 9.00781422  9.66933956]\n",
            " [10.27036692 11.37470687]\n",
            " [11.53291962 13.08007418]]\n"
          ]
        }
      ],
      "source": [
        "# BEGIN CODE HERE\n",
        "hashmap = dict({'lin_space':x,\n",
        "                'dot_product':c})\n",
        "print(hashmap['lin_space'])\n",
        "print(hashmap['dot_product'])\n",
        "#END CODE HERE\n",
        "assert (isinstance(hashmap, dict))"
      ]
    },
    {
      "cell_type": "markdown",
      "metadata": {
        "id": "V--bLaLSRE2y"
      },
      "source": [
        "### 1.2 The very basics of Pandas ### (0.5)"
      ]
    },
    {
      "cell_type": "code",
      "execution_count": null,
      "metadata": {
        "colab": {
          "base_uri": "https://localhost:8080/"
        },
        "id": "f-80LSzMPnP4",
        "outputId": "5847706d-926b-40e7-9c7b-7ae96a4e91b8"
      },
      "outputs": [
        {
          "name": "stdout",
          "output_type": "stream",
          "text": [
            "Drive already mounted at /content/drive; to attempt to forcibly remount, call drive.mount(\"/content/drive\", force_remount=True).\n"
          ]
        }
      ],
      "source": [
        "from google.colab import drive\n",
        "drive.mount('/content/drive')"
      ]
    },
    {
      "cell_type": "markdown",
      "metadata": {
        "id": "xIHQMFo_RisD"
      },
      "source": [
        "- Read & Write CSV\n",
        "- slices"
      ]
    },
    {
      "cell_type": "markdown",
      "metadata": {
        "id": "_41lZvsfCqAp"
      },
      "source": [
        "**1.2.1 Exercise:** Read the file input.csv into a dataframe using the pandas read_csv() function. (An example of an expected outcome is also provided)\n",
        "\n"
      ]
    },
    {
      "cell_type": "code",
      "execution_count": null,
      "metadata": {
        "colab": {
          "base_uri": "https://localhost:8080/",
          "height": 206
        },
        "id": "xwLYDfXeTqBM",
        "outputId": "3c0088df-1066-4e34-f7e9-e374dbc6a4b0"
      },
      "outputs": [
        {
          "data": {
            "text/html": [
              "\n",
              "  <div id=\"df-aaddd69c-8d4b-4bd5-8041-1ebd1dc01abf\">\n",
              "    <div class=\"colab-df-container\">\n",
              "      <div>\n",
              "<style scoped>\n",
              "    .dataframe tbody tr th:only-of-type {\n",
              "        vertical-align: middle;\n",
              "    }\n",
              "\n",
              "    .dataframe tbody tr th {\n",
              "        vertical-align: top;\n",
              "    }\n",
              "\n",
              "    .dataframe thead th {\n",
              "        text-align: right;\n",
              "    }\n",
              "</style>\n",
              "<table border=\"1\" class=\"dataframe\">\n",
              "  <thead>\n",
              "    <tr style=\"text-align: right;\">\n",
              "      <th></th>\n",
              "      <th>age</th>\n",
              "      <th>sex</th>\n",
              "      <th>cp</th>\n",
              "      <th>trestbps</th>\n",
              "      <th>chol</th>\n",
              "      <th>fbs</th>\n",
              "      <th>restecg</th>\n",
              "      <th>thalach</th>\n",
              "      <th>exang</th>\n",
              "      <th>oldpeak</th>\n",
              "      <th>slope</th>\n",
              "      <th>ca</th>\n",
              "      <th>thal</th>\n",
              "      <th>target</th>\n",
              "    </tr>\n",
              "  </thead>\n",
              "  <tbody>\n",
              "    <tr>\n",
              "      <th>0</th>\n",
              "      <td>63</td>\n",
              "      <td>1</td>\n",
              "      <td>3</td>\n",
              "      <td>145</td>\n",
              "      <td>233</td>\n",
              "      <td>1</td>\n",
              "      <td>0</td>\n",
              "      <td>150</td>\n",
              "      <td>0</td>\n",
              "      <td>2.3</td>\n",
              "      <td>0</td>\n",
              "      <td>0</td>\n",
              "      <td>1</td>\n",
              "      <td>1</td>\n",
              "    </tr>\n",
              "    <tr>\n",
              "      <th>1</th>\n",
              "      <td>37</td>\n",
              "      <td>1</td>\n",
              "      <td>2</td>\n",
              "      <td>130</td>\n",
              "      <td>250</td>\n",
              "      <td>0</td>\n",
              "      <td>1</td>\n",
              "      <td>187</td>\n",
              "      <td>0</td>\n",
              "      <td>3.5</td>\n",
              "      <td>0</td>\n",
              "      <td>0</td>\n",
              "      <td>2</td>\n",
              "      <td>1</td>\n",
              "    </tr>\n",
              "    <tr>\n",
              "      <th>2</th>\n",
              "      <td>41</td>\n",
              "      <td>0</td>\n",
              "      <td>1</td>\n",
              "      <td>130</td>\n",
              "      <td>204</td>\n",
              "      <td>0</td>\n",
              "      <td>0</td>\n",
              "      <td>172</td>\n",
              "      <td>0</td>\n",
              "      <td>1.4</td>\n",
              "      <td>2</td>\n",
              "      <td>0</td>\n",
              "      <td>2</td>\n",
              "      <td>1</td>\n",
              "    </tr>\n",
              "    <tr>\n",
              "      <th>3</th>\n",
              "      <td>56</td>\n",
              "      <td>1</td>\n",
              "      <td>1</td>\n",
              "      <td>120</td>\n",
              "      <td>236</td>\n",
              "      <td>0</td>\n",
              "      <td>1</td>\n",
              "      <td>178</td>\n",
              "      <td>0</td>\n",
              "      <td>0.8</td>\n",
              "      <td>2</td>\n",
              "      <td>0</td>\n",
              "      <td>2</td>\n",
              "      <td>1</td>\n",
              "    </tr>\n",
              "    <tr>\n",
              "      <th>4</th>\n",
              "      <td>57</td>\n",
              "      <td>0</td>\n",
              "      <td>0</td>\n",
              "      <td>120</td>\n",
              "      <td>354</td>\n",
              "      <td>0</td>\n",
              "      <td>1</td>\n",
              "      <td>163</td>\n",
              "      <td>1</td>\n",
              "      <td>0.6</td>\n",
              "      <td>2</td>\n",
              "      <td>0</td>\n",
              "      <td>2</td>\n",
              "      <td>1</td>\n",
              "    </tr>\n",
              "  </tbody>\n",
              "</table>\n",
              "</div>\n",
              "      <button class=\"colab-df-convert\" onclick=\"convertToInteractive('df-aaddd69c-8d4b-4bd5-8041-1ebd1dc01abf')\"\n",
              "              title=\"Convert this dataframe to an interactive table.\"\n",
              "              style=\"display:none;\">\n",
              "        \n",
              "  <svg xmlns=\"http://www.w3.org/2000/svg\" height=\"24px\"viewBox=\"0 0 24 24\"\n",
              "       width=\"24px\">\n",
              "    <path d=\"M0 0h24v24H0V0z\" fill=\"none\"/>\n",
              "    <path d=\"M18.56 5.44l.94 2.06.94-2.06 2.06-.94-2.06-.94-.94-2.06-.94 2.06-2.06.94zm-11 1L8.5 8.5l.94-2.06 2.06-.94-2.06-.94L8.5 2.5l-.94 2.06-2.06.94zm10 10l.94 2.06.94-2.06 2.06-.94-2.06-.94-.94-2.06-.94 2.06-2.06.94z\"/><path d=\"M17.41 7.96l-1.37-1.37c-.4-.4-.92-.59-1.43-.59-.52 0-1.04.2-1.43.59L10.3 9.45l-7.72 7.72c-.78.78-.78 2.05 0 2.83L4 21.41c.39.39.9.59 1.41.59.51 0 1.02-.2 1.41-.59l7.78-7.78 2.81-2.81c.8-.78.8-2.07 0-2.86zM5.41 20L4 18.59l7.72-7.72 1.47 1.35L5.41 20z\"/>\n",
              "  </svg>\n",
              "      </button>\n",
              "      \n",
              "  <style>\n",
              "    .colab-df-container {\n",
              "      display:flex;\n",
              "      flex-wrap:wrap;\n",
              "      gap: 12px;\n",
              "    }\n",
              "\n",
              "    .colab-df-convert {\n",
              "      background-color: #E8F0FE;\n",
              "      border: none;\n",
              "      border-radius: 50%;\n",
              "      cursor: pointer;\n",
              "      display: none;\n",
              "      fill: #1967D2;\n",
              "      height: 32px;\n",
              "      padding: 0 0 0 0;\n",
              "      width: 32px;\n",
              "    }\n",
              "\n",
              "    .colab-df-convert:hover {\n",
              "      background-color: #E2EBFA;\n",
              "      box-shadow: 0px 1px 2px rgba(60, 64, 67, 0.3), 0px 1px 3px 1px rgba(60, 64, 67, 0.15);\n",
              "      fill: #174EA6;\n",
              "    }\n",
              "\n",
              "    [theme=dark] .colab-df-convert {\n",
              "      background-color: #3B4455;\n",
              "      fill: #D2E3FC;\n",
              "    }\n",
              "\n",
              "    [theme=dark] .colab-df-convert:hover {\n",
              "      background-color: #434B5C;\n",
              "      box-shadow: 0px 1px 3px 1px rgba(0, 0, 0, 0.15);\n",
              "      filter: drop-shadow(0px 1px 2px rgba(0, 0, 0, 0.3));\n",
              "      fill: #FFFFFF;\n",
              "    }\n",
              "  </style>\n",
              "\n",
              "      <script>\n",
              "        const buttonEl =\n",
              "          document.querySelector('#df-aaddd69c-8d4b-4bd5-8041-1ebd1dc01abf button.colab-df-convert');\n",
              "        buttonEl.style.display =\n",
              "          google.colab.kernel.accessAllowed ? 'block' : 'none';\n",
              "\n",
              "        async function convertToInteractive(key) {\n",
              "          const element = document.querySelector('#df-aaddd69c-8d4b-4bd5-8041-1ebd1dc01abf');\n",
              "          const dataTable =\n",
              "            await google.colab.kernel.invokeFunction('convertToInteractive',\n",
              "                                                     [key], {});\n",
              "          if (!dataTable) return;\n",
              "\n",
              "          const docLinkHtml = 'Like what you see? Visit the ' +\n",
              "            '<a target=\"_blank\" href=https://colab.research.google.com/notebooks/data_table.ipynb>data table notebook</a>'\n",
              "            + ' to learn more about interactive tables.';\n",
              "          element.innerHTML = '';\n",
              "          dataTable['output_type'] = 'display_data';\n",
              "          await google.colab.output.renderOutput(dataTable, element);\n",
              "          const docLink = document.createElement('div');\n",
              "          docLink.innerHTML = docLinkHtml;\n",
              "          element.appendChild(docLink);\n",
              "        }\n",
              "      </script>\n",
              "    </div>\n",
              "  </div>\n",
              "  "
            ],
            "text/plain": [
              "   age  sex  cp  trestbps  chol  fbs  restecg  thalach  exang  oldpeak  slope  \\\n",
              "0   63    1   3       145   233    1        0      150      0      2.3      0   \n",
              "1   37    1   2       130   250    0        1      187      0      3.5      0   \n",
              "2   41    0   1       130   204    0        0      172      0      1.4      2   \n",
              "3   56    1   1       120   236    0        1      178      0      0.8      2   \n",
              "4   57    0   0       120   354    0        1      163      1      0.6      2   \n",
              "\n",
              "   ca  thal  target  \n",
              "0   0     1       1  \n",
              "1   0     2       1  \n",
              "2   0     2       1  \n",
              "3   0     2       1  \n",
              "4   0     2       1  "
            ]
          },
          "execution_count": 9,
          "metadata": {},
          "output_type": "execute_result"
        }
      ],
      "source": [
        "# BEGIN CODE HERE\n",
        "df = pd.read_csv(\"/content/drive/MyDrive/input.csv\")\n",
        "#END CODE HERE\n",
        "df.head()"
      ]
    },
    {
      "cell_type": "markdown",
      "metadata": {
        "id": "9XWwZLTRIarc"
      },
      "source": [
        "**1.2.2 Exercise:** Find the mean and std value of the *thalach* variable using **pandas**. (An example of an expected outcome is also provided)\n"
      ]
    },
    {
      "cell_type": "code",
      "execution_count": null,
      "metadata": {
        "colab": {
          "base_uri": "https://localhost:8080/"
        },
        "id": "-gylgOk8VPPt",
        "outputId": "0b9b6430-c2c9-4d9a-8a69-d0d481e0206e"
      },
      "outputs": [
        {
          "name": "stdout",
          "output_type": "stream",
          "text": [
            "Average: 149.64686468646866\n",
            "STD: 22.905161114914094\n"
          ]
        }
      ],
      "source": [
        "# BEGIN CODE HERE\n",
        "mean_thalach = df['thalach'].mean()\n",
        "std_thalach = df['thalach'].std()\n",
        "#END CODE HERE\n",
        "print(\"Average: \" + str(mean_thalach))\n",
        "print(\"STD: \" + str(std_thalach))"
      ]
    },
    {
      "cell_type": "markdown",
      "metadata": {
        "id": "9QK8m9GRMNl4"
      },
      "source": [
        "**1.2.3 Exercise:** Select the rows where *thalach*>150 and only the columns age, sex, cp, chol, target using **pandas**. (An example of an expected outcome is also provided)"
      ]
    },
    {
      "cell_type": "code",
      "execution_count": null,
      "metadata": {
        "colab": {
          "base_uri": "https://localhost:8080/",
          "height": 423
        },
        "id": "pTSX1peCVc-G",
        "outputId": "df990aab-7686-4586-dc11-cbba330f67c6"
      },
      "outputs": [
        {
          "data": {
            "text/html": [
              "\n",
              "  <div id=\"df-a089c1c4-1038-4c6b-a4d1-0eb183affc65\">\n",
              "    <div class=\"colab-df-container\">\n",
              "      <div>\n",
              "<style scoped>\n",
              "    .dataframe tbody tr th:only-of-type {\n",
              "        vertical-align: middle;\n",
              "    }\n",
              "\n",
              "    .dataframe tbody tr th {\n",
              "        vertical-align: top;\n",
              "    }\n",
              "\n",
              "    .dataframe thead th {\n",
              "        text-align: right;\n",
              "    }\n",
              "</style>\n",
              "<table border=\"1\" class=\"dataframe\">\n",
              "  <thead>\n",
              "    <tr style=\"text-align: right;\">\n",
              "      <th></th>\n",
              "      <th>age</th>\n",
              "      <th>sex</th>\n",
              "      <th>cp</th>\n",
              "      <th>chol</th>\n",
              "      <th>thalach</th>\n",
              "      <th>target</th>\n",
              "    </tr>\n",
              "  </thead>\n",
              "  <tbody>\n",
              "    <tr>\n",
              "      <th>1</th>\n",
              "      <td>37</td>\n",
              "      <td>1</td>\n",
              "      <td>2</td>\n",
              "      <td>250</td>\n",
              "      <td>187</td>\n",
              "      <td>1</td>\n",
              "    </tr>\n",
              "    <tr>\n",
              "      <th>2</th>\n",
              "      <td>41</td>\n",
              "      <td>0</td>\n",
              "      <td>1</td>\n",
              "      <td>204</td>\n",
              "      <td>172</td>\n",
              "      <td>1</td>\n",
              "    </tr>\n",
              "    <tr>\n",
              "      <th>3</th>\n",
              "      <td>56</td>\n",
              "      <td>1</td>\n",
              "      <td>1</td>\n",
              "      <td>236</td>\n",
              "      <td>178</td>\n",
              "      <td>1</td>\n",
              "    </tr>\n",
              "    <tr>\n",
              "      <th>4</th>\n",
              "      <td>57</td>\n",
              "      <td>0</td>\n",
              "      <td>0</td>\n",
              "      <td>354</td>\n",
              "      <td>163</td>\n",
              "      <td>1</td>\n",
              "    </tr>\n",
              "    <tr>\n",
              "      <th>6</th>\n",
              "      <td>56</td>\n",
              "      <td>0</td>\n",
              "      <td>1</td>\n",
              "      <td>294</td>\n",
              "      <td>153</td>\n",
              "      <td>1</td>\n",
              "    </tr>\n",
              "    <tr>\n",
              "      <th>...</th>\n",
              "      <td>...</td>\n",
              "      <td>...</td>\n",
              "      <td>...</td>\n",
              "      <td>...</td>\n",
              "      <td>...</td>\n",
              "      <td>...</td>\n",
              "    </tr>\n",
              "    <tr>\n",
              "      <th>283</th>\n",
              "      <td>40</td>\n",
              "      <td>1</td>\n",
              "      <td>0</td>\n",
              "      <td>223</td>\n",
              "      <td>181</td>\n",
              "      <td>0</td>\n",
              "    </tr>\n",
              "    <tr>\n",
              "      <th>286</th>\n",
              "      <td>59</td>\n",
              "      <td>1</td>\n",
              "      <td>3</td>\n",
              "      <td>204</td>\n",
              "      <td>162</td>\n",
              "      <td>0</td>\n",
              "    </tr>\n",
              "    <tr>\n",
              "      <th>287</th>\n",
              "      <td>57</td>\n",
              "      <td>1</td>\n",
              "      <td>1</td>\n",
              "      <td>232</td>\n",
              "      <td>164</td>\n",
              "      <td>0</td>\n",
              "    </tr>\n",
              "    <tr>\n",
              "      <th>290</th>\n",
              "      <td>61</td>\n",
              "      <td>1</td>\n",
              "      <td>0</td>\n",
              "      <td>203</td>\n",
              "      <td>161</td>\n",
              "      <td>0</td>\n",
              "    </tr>\n",
              "    <tr>\n",
              "      <th>302</th>\n",
              "      <td>57</td>\n",
              "      <td>0</td>\n",
              "      <td>1</td>\n",
              "      <td>236</td>\n",
              "      <td>174</td>\n",
              "      <td>0</td>\n",
              "    </tr>\n",
              "  </tbody>\n",
              "</table>\n",
              "<p>164 rows × 6 columns</p>\n",
              "</div>\n",
              "      <button class=\"colab-df-convert\" onclick=\"convertToInteractive('df-a089c1c4-1038-4c6b-a4d1-0eb183affc65')\"\n",
              "              title=\"Convert this dataframe to an interactive table.\"\n",
              "              style=\"display:none;\">\n",
              "        \n",
              "  <svg xmlns=\"http://www.w3.org/2000/svg\" height=\"24px\"viewBox=\"0 0 24 24\"\n",
              "       width=\"24px\">\n",
              "    <path d=\"M0 0h24v24H0V0z\" fill=\"none\"/>\n",
              "    <path d=\"M18.56 5.44l.94 2.06.94-2.06 2.06-.94-2.06-.94-.94-2.06-.94 2.06-2.06.94zm-11 1L8.5 8.5l.94-2.06 2.06-.94-2.06-.94L8.5 2.5l-.94 2.06-2.06.94zm10 10l.94 2.06.94-2.06 2.06-.94-2.06-.94-.94-2.06-.94 2.06-2.06.94z\"/><path d=\"M17.41 7.96l-1.37-1.37c-.4-.4-.92-.59-1.43-.59-.52 0-1.04.2-1.43.59L10.3 9.45l-7.72 7.72c-.78.78-.78 2.05 0 2.83L4 21.41c.39.39.9.59 1.41.59.51 0 1.02-.2 1.41-.59l7.78-7.78 2.81-2.81c.8-.78.8-2.07 0-2.86zM5.41 20L4 18.59l7.72-7.72 1.47 1.35L5.41 20z\"/>\n",
              "  </svg>\n",
              "      </button>\n",
              "      \n",
              "  <style>\n",
              "    .colab-df-container {\n",
              "      display:flex;\n",
              "      flex-wrap:wrap;\n",
              "      gap: 12px;\n",
              "    }\n",
              "\n",
              "    .colab-df-convert {\n",
              "      background-color: #E8F0FE;\n",
              "      border: none;\n",
              "      border-radius: 50%;\n",
              "      cursor: pointer;\n",
              "      display: none;\n",
              "      fill: #1967D2;\n",
              "      height: 32px;\n",
              "      padding: 0 0 0 0;\n",
              "      width: 32px;\n",
              "    }\n",
              "\n",
              "    .colab-df-convert:hover {\n",
              "      background-color: #E2EBFA;\n",
              "      box-shadow: 0px 1px 2px rgba(60, 64, 67, 0.3), 0px 1px 3px 1px rgba(60, 64, 67, 0.15);\n",
              "      fill: #174EA6;\n",
              "    }\n",
              "\n",
              "    [theme=dark] .colab-df-convert {\n",
              "      background-color: #3B4455;\n",
              "      fill: #D2E3FC;\n",
              "    }\n",
              "\n",
              "    [theme=dark] .colab-df-convert:hover {\n",
              "      background-color: #434B5C;\n",
              "      box-shadow: 0px 1px 3px 1px rgba(0, 0, 0, 0.15);\n",
              "      filter: drop-shadow(0px 1px 2px rgba(0, 0, 0, 0.3));\n",
              "      fill: #FFFFFF;\n",
              "    }\n",
              "  </style>\n",
              "\n",
              "      <script>\n",
              "        const buttonEl =\n",
              "          document.querySelector('#df-a089c1c4-1038-4c6b-a4d1-0eb183affc65 button.colab-df-convert');\n",
              "        buttonEl.style.display =\n",
              "          google.colab.kernel.accessAllowed ? 'block' : 'none';\n",
              "\n",
              "        async function convertToInteractive(key) {\n",
              "          const element = document.querySelector('#df-a089c1c4-1038-4c6b-a4d1-0eb183affc65');\n",
              "          const dataTable =\n",
              "            await google.colab.kernel.invokeFunction('convertToInteractive',\n",
              "                                                     [key], {});\n",
              "          if (!dataTable) return;\n",
              "\n",
              "          const docLinkHtml = 'Like what you see? Visit the ' +\n",
              "            '<a target=\"_blank\" href=https://colab.research.google.com/notebooks/data_table.ipynb>data table notebook</a>'\n",
              "            + ' to learn more about interactive tables.';\n",
              "          element.innerHTML = '';\n",
              "          dataTable['output_type'] = 'display_data';\n",
              "          await google.colab.output.renderOutput(dataTable, element);\n",
              "          const docLink = document.createElement('div');\n",
              "          docLink.innerHTML = docLinkHtml;\n",
              "          element.appendChild(docLink);\n",
              "        }\n",
              "      </script>\n",
              "    </div>\n",
              "  </div>\n",
              "  "
            ],
            "text/plain": [
              "     age  sex  cp  chol  thalach  target\n",
              "1     37    1   2   250      187       1\n",
              "2     41    0   1   204      172       1\n",
              "3     56    1   1   236      178       1\n",
              "4     57    0   0   354      163       1\n",
              "6     56    0   1   294      153       1\n",
              "..   ...  ...  ..   ...      ...     ...\n",
              "283   40    1   0   223      181       0\n",
              "286   59    1   3   204      162       0\n",
              "287   57    1   1   232      164       0\n",
              "290   61    1   0   203      161       0\n",
              "302   57    0   1   236      174       0\n",
              "\n",
              "[164 rows x 6 columns]"
            ]
          },
          "execution_count": 11,
          "metadata": {},
          "output_type": "execute_result"
        }
      ],
      "source": [
        "# BEGIN CODE HERE\n",
        "selected = df[df['thalach']>150]\n",
        "selected = selected.drop(columns = ['trestbps','fbs','restecg','exang','oldpeak','slope','ca','thal'])\n",
        "#END CODE HERE\n",
        "selected"
      ]
    },
    {
      "cell_type": "markdown",
      "metadata": {
        "id": "d_8E3vdsSe_h"
      },
      "source": [
        "## 2.0 Linear Models ##\n",
        "\n",
        "In this part of the excersice you are going to build a logistic regression model from scratch."
      ]
    },
    {
      "cell_type": "markdown",
      "metadata": {
        "id": "sJMbzOu6QGqL"
      },
      "source": [
        "**2.1 Exercise:** Implement and test the sigmoid function using numpy. (An example of an expected outcome is also provided)\n",
        "\n",
        "sigmoid function:\n",
        "$$\\sigma(t)= \\dfrac{1}{1 + exp(-t)}$$"
      ]
    },
    {
      "cell_type": "code",
      "execution_count": null,
      "metadata": {
        "colab": {
          "base_uri": "https://localhost:8080/"
        },
        "id": "iQ5TRRkKWYQQ",
        "outputId": "9acf63cb-420c-443c-c96f-7ac296697fe1"
      },
      "outputs": [
        {
          "name": "stdout",
          "output_type": "stream",
          "text": [
            "[0.99908895 0.73105858 0.99987661]\n"
          ]
        }
      ],
      "source": [
        "from numpy import exp\n",
        "def sigmoid(t):\n",
        "    \"\"\"\n",
        "    Compute the sigmoid of t\n",
        "    Arguments:\n",
        "    t -- A numpy array of any size\n",
        "\n",
        "    Return:\n",
        "    s -- sigmoid(t)\n",
        "    \"\"\"\n",
        "    # BEGIN CODE HERE\n",
        "    s = 1 /( 1 + exp(-t) )\n",
        "    return s\n",
        "    #END CODE HERE\n",
        "\n",
        "x = np.array([7, 1, 9])\n",
        "# BEGIN CODE HERE\n",
        "# Call the function given the variable x and print it\n",
        "\n",
        "print(sigmoid(x))\n",
        "#END CODE HERE"
      ]
    },
    {
      "cell_type": "markdown",
      "metadata": {
        "id": "KFYp1zjbRt9p"
      },
      "source": [
        "**2.2 Exercise**: Implement parameter initialization in the cell below. You have to initialize w (weight vector) and b (bias) with zeros. Then, run the function using the **dim** variable. *(An example of an expected outcome is also provided)*"
      ]
    },
    {
      "cell_type": "code",
      "execution_count": null,
      "metadata": {
        "colab": {
          "base_uri": "https://localhost:8080/"
        },
        "id": "xLpXRYx5WgxZ",
        "outputId": "9881f236-8c9a-424d-be12-949fbbe7d47c"
      },
      "outputs": [
        {
          "name": "stdout",
          "output_type": "stream",
          "text": [
            "w = [0. 0. 0. 0. 0. 0. 0.]\n",
            "b = 0.0\n"
          ]
        }
      ],
      "source": [
        "def initialize(dim):\n",
        "    \"\"\"\n",
        "    Argument:\n",
        "    dim -- the number of parameters\n",
        "\n",
        "    Returns:\n",
        "    w -- initialized vector of shape (1, dim)\n",
        "    b -- initialized bias weight\n",
        "    \"\"\"\n",
        "    # BEGIN CODE HERE\n",
        "    w = np.zeros((dim,))\n",
        "    b = 0.0\n",
        "    return w, b\n",
        "    #END CODE HERE\n",
        "dim = 7\n",
        "# BEGIN CODE HERE\n",
        "w, b = initialize(dim)\n",
        "#END CODE HERE\n",
        "print (\"w = \" + str(w))\n",
        "print (\"b = \" + str(b))"
      ]
    },
    {
      "cell_type": "markdown",
      "metadata": {
        "id": "aUOVogDFZZ3f"
      },
      "source": [
        "**2.3 Exercise**: Compute the cost of logistic regression using the sigmoid function above. You can find the dot product of two arrays by using the [np.dot()](https://docs.scipy.org/doc/numpy/reference/generated/numpy.dot.html). Check slide 39 (41). (Tip 1: you should append b (weight of bias) in front of w array, Tip 2: Pay attention to 'ML Course - Linear Models' covered in class to see how to combine $x_0$ with the other variables of $X$. Tip 3: You may use np.array, np.c_, np.dot, np.log, np.sum). Finally, run the function and check the results. *(An example of an expected outcome is also provided)*"
      ]
    },
    {
      "cell_type": "code",
      "execution_count": null,
      "metadata": {
        "colab": {
          "base_uri": "https://localhost:8080/"
        },
        "id": "BxX2b8KzXGvv",
        "outputId": "600be72a-b70d-4885-de36-36195e0171ed"
      },
      "outputs": [
        {
          "name": "stdout",
          "output_type": "stream",
          "text": [
            "Sigmoid: [0.9998766054240137, 0.999983298578152, 0.9781187290638694]\n",
            "Cost: 6.674088106737919\n"
          ]
        }
      ],
      "source": [
        "def compute_cost(w,b,X,Y):\n",
        "    \"\"\"\n",
        "    Arguments:\n",
        "    w -- weights\n",
        "    b -- bias\n",
        "    X -- input data\n",
        "    Y -- target or label vector\n",
        "\n",
        "    Return:\n",
        "    sigma -- the sigmoid of the z\n",
        "    cost -- cost for logistic regression\n",
        "    \"\"\"\n",
        "    # BEGIN CODE HERE\n",
        "    bw = np.array([b]+list(w))\n",
        "    X = np.c_[np.ones((X.shape[0], 1)),X]\n",
        "    a = np.dot(X,bw)\n",
        "    sigma = sigmoid((a))\n",
        "    cost = (-1)*np.sum((Y*np.log(sigma)+(1-Y)*np.log(1-sigma)))/len(Y)\n",
        "    return sigma,cost\n",
        "    #END CODE HERE\n",
        "\n",
        "w, b, X, Y = np.array([0.,1.]), 7., np.array([[0.,2.],[3.,4.],[-8.,-3.2]]), np.array([0,0,1])\n",
        "# BEGIN CODE HERE\n",
        "sigma, cost = compute_cost(w,b,X,Y)\n",
        "#END CODE HERE\n",
        "print(\"Sigmoid:\",[i for i in sigma])\n",
        "print(\"Cost:\", str(cost))"
      ]
    },
    {
      "cell_type": "markdown",
      "metadata": {
        "id": "j15xZTmQdX1e"
      },
      "source": [
        "**2.4 Exercise** Compute the gradient of w and b. Compute grad as in slide 40 (Compute X and bw like above). Then. run the function with the provided example. *(An example of an expected outcome is also provided)*"
      ]
    },
    {
      "cell_type": "code",
      "execution_count": null,
      "metadata": {
        "colab": {
          "base_uri": "https://localhost:8080/"
        },
        "id": "Wn6_4LVgXh76",
        "outputId": "f4ddf5ad-f0c1-4e98-fa30-08efd08412f3"
      },
      "outputs": [
        {
          "name": "stdout",
          "output_type": "stream",
          "text": [
            "dw = [2.02323549]\n",
            "db = 1.0583333544078337\n"
          ]
        }
      ],
      "source": [
        "def gradient(w,b,X,Y,sigma):\n",
        "    \"\"\"\n",
        "    Arguments:\n",
        "    w -- weights\n",
        "    b -- bias\n",
        "    X -- input data\n",
        "    Y -- target or label vector\n",
        "\n",
        "    Return:\n",
        "    dw -- gradient of the loss with respect to w (numpy array)\n",
        "    db -- gradient of the loss with respect to b (scalar)\n",
        "    \"\"\"\n",
        "    # BEGIN CODE HERE\n",
        "    g = np.dot(X.T,sigma-Y)/len(Y)\n",
        "    dw = g[1:]\n",
        "    db = g[0]\n",
        "    return dw,db\n",
        "    #END CODE HERE\n",
        "\n",
        "w, b, X, Y = np.array([0.,1.]), 7., np.array([[0.,2.],[3.,4.],[-8.,-3.2]]), np.array([0,0,1])\n",
        "# BEGIN CODE HERE\n",
        "dw, db = gradient(w,b,X,Y,sigma)\n",
        "#END CODE HERE\n",
        "print (\"dw = \" + str(dw))\n",
        "print (\"db = \" + str(db))"
      ]
    },
    {
      "cell_type": "markdown",
      "metadata": {
        "id": "kFEC6UNrpFie"
      },
      "source": [
        "**2.5 Exercise** Implement the parameters update function below. The goal is to learn $w$ and $b$ by minimizing the cost function $J$. For a parameter $\\theta$, the update rule is $ \\theta = \\theta - \\alpha \\text{ } d\\theta$, where $\\alpha$ is the learning rate. Tip: Use the functions developed above. Then, run the function on the provided example and check the results. *(An example of an expected outcome is also provided)*"
      ]
    },
    {
      "cell_type": "code",
      "execution_count": null,
      "metadata": {
        "colab": {
          "base_uri": "https://localhost:8080/"
        },
        "id": "FsORMiuRX958",
        "outputId": "ab2e2e08-0cdc-4682-f961-039026d70cba"
      },
      "outputs": [
        {
          "name": "stdout",
          "output_type": "stream",
          "text": [
            "Cost after iteration 0: 6.674088\n",
            "w = [-1.82091194 -0.82091194]\n",
            "b = 6.047499981032949\n",
            "dw = [2.02323549]\n",
            "db = 1.0583333544078337\n"
          ]
        }
      ],
      "source": [
        "def update_parameters(w,b,X,Y,num_iterations,learning_rate):\n",
        "    \"\"\"\n",
        "    This function optimizes w and b by running a gradient descent algorithm\n",
        "\n",
        "      Arguments:\n",
        "      w -- weights\n",
        "      b -- bias\n",
        "      X -- input data\n",
        "      Y -- target or label vector\n",
        "      num_iterations -- number of iterations of the optimization loop\n",
        "      learning_rate -- learning rate of the gradient descent update rule\n",
        "\n",
        "      Returns:\n",
        "      params -- dictionary containing the weights w and bias b\n",
        "      grads -- dictionary containing the gradients of the weights and bias with respect to the cost function.\n",
        "    \"\"\"\n",
        "    for i in range(num_iterations):\n",
        "\n",
        "        # BEGIN CODE HERE\n",
        "        w_prev = w\n",
        "        b_prev = b\n",
        "        # Cost and gradient calculation\n",
        "        sigma, cost = compute_cost(w_prev,b_prev,X,Y)\n",
        "        grad = gradient(w_prev,b_prev,X,Y,sigma)\n",
        "        # Update rule\n",
        "        w = w_prev - learning_rate * dw\n",
        "        b = b_prev - learning_rate * db\n",
        "        # END CODE HERE\n",
        "\n",
        "        # Print the cost every 100 training iterations\n",
        "        if i % 100 == 0:\n",
        "            print (\"Cost after iteration %i: %f\" %(i, cost))\n",
        "\n",
        "    return w, b, dw, db\n",
        "\n",
        "w, b, X, Y = np.array([0.,1.]), 7., np.array([[0.,2.],[3.,4.],[-8.,-3.2]]), np.array([0,0,1])\n",
        "num_iterations= 100\n",
        "learning_rate = 0.009\n",
        "\n",
        "# BEGIN CODE HERE\n",
        "w, b, dw, db = update_parameters(w,b,X,Y, num_iterations=100,learning_rate=0.009)\n",
        "# END CODE HERE\n",
        "print (\"w = \" + str(w))\n",
        "print (\"b = \" + str(b))\n",
        "print (\"dw = \" + str(dw))\n",
        "print (\"db = \" + str(db))"
      ]
    },
    {
      "cell_type": "markdown",
      "metadata": {
        "id": "3bnW_pZtuYc2"
      },
      "source": [
        "**2.6 Predict** Implement the predict() function by calculating the $y'$ and then convert the probabilities to actual predictions 0 or 1. Finally, run the function with the provided example. *(An example of an expected outcome is also provided)*"
      ]
    },
    {
      "cell_type": "code",
      "execution_count": null,
      "metadata": {
        "colab": {
          "base_uri": "https://localhost:8080/"
        },
        "id": "q2P-3OBaxBLT",
        "outputId": "d79ba30a-e6c4-4642-d117-a47c1399f617"
      },
      "outputs": [
        {
          "name": "stdout",
          "output_type": "stream",
          "text": [
            "predictions = [1 1 1]\n"
          ]
        }
      ],
      "source": [
        "def predict(w,b,X):\n",
        "    '''\n",
        "    Predict whether the label is 0 or 1 using learned logistic regression parameters (w, b)\n",
        "\n",
        "    Arguments:\n",
        "    w -- weights\n",
        "    b -- bias, a scalar\n",
        "    X -- input data\n",
        "\n",
        "    Returns:\n",
        "    Y_prediction -- a numpy array (vector) containing all predictions (0/1) for the examples in X\n",
        "    '''\n",
        "\n",
        "    # BEGIN CODE HERE\n",
        "    p = X.shape[0]\n",
        "    Y_prediction = np.zeros((p,))\n",
        "    Y_prediction = np.array([0 if i<0.5 else 1 for i in sigma])\n",
        "    return Y_prediction\n",
        "    # END CODE HERE\n",
        "\n",
        "w = np.array([0.1124579,0.23106775])\n",
        "b = 0.2\n",
        "X = np.array([[0.,0.2],[-2.1,1.],[-2.2,-1.1]])\n",
        "# BEGIN CODE HERE\n",
        "prediction = predict(w,b,X)\n",
        "# END CODE HERE\n",
        "print(\"predictions = \" + str(prediction))"
      ]
    },
    {
      "cell_type": "markdown",
      "metadata": {
        "id": "LSEzK5Cc0E3X"
      },
      "source": [
        "**2.7 Exercise** Put all the above blocks in the right order to create a model in the function below."
      ]
    },
    {
      "cell_type": "code",
      "execution_count": null,
      "metadata": {
        "id": "S2uiXZk0aAV2"
      },
      "outputs": [],
      "source": [
        "def model(X_train, Y_train, X_test, Y_test, num_iterations = 2000, learning_rate = 0.5):\n",
        "    \"\"\"\n",
        "    Builds the logistic regression model by calling the function you've implemented previously\n",
        "\n",
        "    Arguments:\n",
        "    X_train -- training set represented by a numpy array\n",
        "    Y_train -- training labels represented by a numpy array (vector) of shape (1, m_train)\n",
        "    X_test -- test set represented by a numpy array of shape\n",
        "    Y_test -- test labels represented by a numpy array (vector) of shape (1, m_test)\n",
        "    num_iterations -- hyperparameter representing the number of iterations to optimize the parameters\n",
        "    learning_rate -- hyperparameter representing the learning rate used in the update rule of update_parameters()\n",
        "\n",
        "    Returns:\n",
        "    d -- dictionary containing information about the model.\n",
        "    \"\"\"\n",
        "\n",
        "    # BEGIN CODE HERE\n",
        "\n",
        "    # initialize parameters\n",
        "    w, b = initialize(len(X[0]))\n",
        "\n",
        "    # Gradient descent\n",
        "    w, b, dw, db = update_parameters(w,b,X_train,Y_train,num_iterations,learning_rate)\n",
        "\n",
        "    # Predict test/train set examples\n",
        "    y_pred_test = predict(w,b,X_test)\n",
        "    y_pred_train = predict(w,b,X_train)\n",
        "\n",
        "    #END CODE HERE\n",
        "\n",
        "\n",
        "    # Print train/test Errors\n",
        "    print(\"train accuracy: {} %\".format(100 - np.mean(np.abs(y_pred_train - y_train)) * 100))\n",
        "    print(\"test accuracy: {} %\".format(100 - np.mean(np.abs(y_pred_test - y_test)) * 100))\n",
        "\n",
        "\n",
        "    d = {\"Y_prediction_test\": y_pred_test,\n",
        "        \"Y_prediction_train\" : y_pred_train,\n",
        "        \"w\" : w,\n",
        "        \"b\" : b,\n",
        "        \"learning_rate\" : learning_rate,\n",
        "        \"num_iterations\": num_iterations}\n",
        "\n",
        "    return d\n"
      ]
    },
    {
      "cell_type": "markdown",
      "metadata": {
        "id": "eSv1oc0IgJUd"
      },
      "source": [
        "**2.8 Exercise** Using the **df** from above assign to the **X** variable the values of the columns 'oldpeak' and 'thalach', and in the **y** variable the column 'target'. *(An example of an expected outcome (the plot) is also provided)*"
      ]
    },
    {
      "cell_type": "code",
      "execution_count": null,
      "metadata": {
        "colab": {
          "base_uri": "https://localhost:8080/",
          "height": 693
        },
        "id": "NDzIkc6v1Uf8",
        "outputId": "773e899a-ae68-4435-b681-8ce8dc3c2f92"
      },
      "outputs": [
        {
          "data": {
            "text/plain": [
              "<matplotlib.collections.PathCollection at 0x7ff8f5fa86d0>"
            ]
          },
          "execution_count": 19,
          "metadata": {},
          "output_type": "execute_result"
        },
        {
          "data": {
            "image/png": "[encoded data removed]",
            "text/plain": [
              "<Figure size 800x800 with 1 Axes>"
            ]
          },
          "metadata": {},
          "output_type": "display_data"
        }
      ],
      "source": [
        "import matplotlib.pyplot as plt\n",
        "\n",
        "# BEGIN CODE HERE\n",
        "\n",
        "X = df[['oldpeak','thalach']].values\n",
        "y = df['target'].values\n",
        "#END CODE HERE\n",
        "\n",
        "\n",
        "plt.figure(figsize=(8,8))\n",
        "colors = ['blue' if i == 0 else 'red' for i in y]\n",
        "plt.scatter(X[:, 0],\n",
        "            X[:, 1],\n",
        "            alpha = .4, color=colors)"
      ]
    },
    {
      "cell_type": "markdown",
      "metadata": {
        "id": "N6gklYbei7Te"
      },
      "source": [
        "**2.9 Exercise** Split your dataset into train and test set and then use the model function to evaluate your model. Be careful to include both classes in train and test set. Finally, make a plot containing the samples and the line the model has learned. Use train_test_split from sklearn to split X and y to train and test sets of 50% and 50%, respectively. You should also use the shuffle parameter. [Train-test-split Documentation.](https://scikit-learn.org/stable/modules/generated/sklearn.model_selection.train_test_split.html#sklearn.model_selection.train_test_split) *(An example of an expected outcome is also provided)*"
      ]
    },
    {
      "cell_type": "code",
      "execution_count": null,
      "metadata": {
        "colab": {
          "base_uri": "https://localhost:8080/",
          "height": 529
        },
        "id": "0e0BE1vJaEiM",
        "outputId": "3d391d92-49d5-4911-c94e-509e6d5aa2d2"
      },
      "outputs": [
        {
          "name": "stdout",
          "output_type": "stream",
          "text": [
            "Cost after iteration 0: 0.693147\n",
            "Cost after iteration 100: 1.593360\n",
            "Cost after iteration 200: 3.084870\n",
            "Cost after iteration 300: 4.621937\n",
            "Cost after iteration 400: 6.162144\n",
            "Cost after iteration 500: 7.702629\n",
            "Cost after iteration 600: 9.243148\n",
            "Cost after iteration 700: 10.783671\n",
            "Cost after iteration 800: 12.324195\n",
            "Cost after iteration 900: 13.864720\n"
          ]
        },
        {
          "ename": "ValueError",
          "evalue": "ignored",
          "output_type": "error",
          "traceback": [
            "\u001b[0;31m---------------------------------------------------------------------------\u001b[0m",
            "\u001b[0;31mValueError\u001b[0m                                Traceback (most recent call last)",
            "\u001b[0;32m<ipython-input-20-8553f0273535>\u001b[0m in \u001b[0;36m<cell line: 6>\u001b[0;34m()\u001b[0m\n\u001b[1;32m      4\u001b[0m \u001b[0;31m#END CODE HERE\u001b[0m\u001b[0;34m\u001b[0m\u001b[0;34m\u001b[0m\u001b[0m\n\u001b[1;32m      5\u001b[0m \u001b[0;34m\u001b[0m\u001b[0m\n\u001b[0;32m----> 6\u001b[0;31m \u001b[0md\u001b[0m \u001b[0;34m=\u001b[0m \u001b[0mmodel\u001b[0m\u001b[0;34m(\u001b[0m\u001b[0mX_train\u001b[0m\u001b[0;34m,\u001b[0m \u001b[0my_train\u001b[0m\u001b[0;34m,\u001b[0m \u001b[0mX_test\u001b[0m\u001b[0;34m,\u001b[0m \u001b[0my_test\u001b[0m\u001b[0;34m,\u001b[0m \u001b[0mnum_iterations\u001b[0m \u001b[0;34m=\u001b[0m \u001b[0;36m1000\u001b[0m\u001b[0;34m,\u001b[0m \u001b[0mlearning_rate\u001b[0m \u001b[0;34m=\u001b[0m \u001b[0;36m0.0001\u001b[0m\u001b[0;34m)\u001b[0m\u001b[0;34m\u001b[0m\u001b[0;34m\u001b[0m\u001b[0m\n\u001b[0m\u001b[1;32m      7\u001b[0m \u001b[0;34m\u001b[0m\u001b[0m\n\u001b[1;32m      8\u001b[0m \u001b[0;31m# Plot again\u001b[0m\u001b[0;34m\u001b[0m\u001b[0;34m\u001b[0m\u001b[0m\n",
            "\u001b[0;32m<ipython-input-18-e598d832b918>\u001b[0m in \u001b[0;36mmodel\u001b[0;34m(X_train, Y_train, X_test, Y_test, num_iterations, learning_rate)\u001b[0m\n\u001b[1;32m     31\u001b[0m \u001b[0;34m\u001b[0m\u001b[0m\n\u001b[1;32m     32\u001b[0m     \u001b[0;31m# Print train/test Errors\u001b[0m\u001b[0;34m\u001b[0m\u001b[0;34m\u001b[0m\u001b[0m\n\u001b[0;32m---> 33\u001b[0;31m     \u001b[0mprint\u001b[0m\u001b[0;34m(\u001b[0m\u001b[0;34m\"train accuracy: {} %\"\u001b[0m\u001b[0;34m.\u001b[0m\u001b[0mformat\u001b[0m\u001b[0;34m(\u001b[0m\u001b[0;36m100\u001b[0m \u001b[0;34m-\u001b[0m \u001b[0mnp\u001b[0m\u001b[0;34m.\u001b[0m\u001b[0mmean\u001b[0m\u001b[0;34m(\u001b[0m\u001b[0mnp\u001b[0m\u001b[0;34m.\u001b[0m\u001b[0mabs\u001b[0m\u001b[0;34m(\u001b[0m\u001b[0my_pred_train\u001b[0m \u001b[0;34m-\u001b[0m \u001b[0my_train\u001b[0m\u001b[0;34m)\u001b[0m\u001b[0;34m)\u001b[0m \u001b[0;34m*\u001b[0m \u001b[0;36m100\u001b[0m\u001b[0;34m)\u001b[0m\u001b[0;34m)\u001b[0m\u001b[0;34m\u001b[0m\u001b[0;34m\u001b[0m\u001b[0m\n\u001b[0m\u001b[1;32m     34\u001b[0m     \u001b[0mprint\u001b[0m\u001b[0;34m(\u001b[0m\u001b[0;34m\"test accuracy: {} %\"\u001b[0m\u001b[0;34m.\u001b[0m\u001b[0mformat\u001b[0m\u001b[0;34m(\u001b[0m\u001b[0;36m100\u001b[0m \u001b[0;34m-\u001b[0m \u001b[0mnp\u001b[0m\u001b[0;34m.\u001b[0m\u001b[0mmean\u001b[0m\u001b[0;34m(\u001b[0m\u001b[0mnp\u001b[0m\u001b[0;34m.\u001b[0m\u001b[0mabs\u001b[0m\u001b[0;34m(\u001b[0m\u001b[0my_pred_test\u001b[0m \u001b[0;34m-\u001b[0m \u001b[0my_test\u001b[0m\u001b[0;34m)\u001b[0m\u001b[0;34m)\u001b[0m \u001b[0;34m*\u001b[0m \u001b[0;36m100\u001b[0m\u001b[0;34m)\u001b[0m\u001b[0;34m)\u001b[0m\u001b[0;34m\u001b[0m\u001b[0;34m\u001b[0m\u001b[0m\n\u001b[1;32m     35\u001b[0m \u001b[0;34m\u001b[0m\u001b[0m\n",
            "\u001b[0;31mValueError\u001b[0m: operands could not be broadcast together with shapes (3,) (151,) "
          ]
        }
      ],
      "source": [
        "# BEGIN CODE HERE\n",
        "from sklearn.model_selection import train_test_split\n",
        "X_train, X_test, y_train, y_test =  train_test_split(X, y, test_size = 0.5, shuffle = True, random_state = 77)\n",
        "#END CODE HERE\n",
        "\n",
        "d = model(X_train, y_train, X_test, y_test, num_iterations = 1000, learning_rate = 0.0001)\n",
        "\n",
        "# Plot again\n",
        "plt.figure(figsize=(8,8))\n",
        "colors = ['blue' if i == 0 else 'red' for i in y_train]\n",
        "plt.scatter(X_train[:, 0], X_train[:, 1], alpha = .4, color=colors)\n",
        "\n",
        "x_boundary = np.linspace(0, 4, 1000) # Return evenly spaced numbers over a specified interval.\n",
        "weights =  d['w'][0]\n",
        "\n",
        "# BEGIN CODE HERE\n",
        "y_boundary = - ((weights * x_boundary/d['w'][1]) + (d['b']/d['w'][1]))\n",
        "#END CODE HERE\n",
        "\n",
        "plt.plot(x_boundary, y_boundary, color='black')"
      ]
    },
    {
      "cell_type": "markdown",
      "metadata": {
        "id": "RDlwjY4P2QXD"
      },
      "source": [
        "**2.10 Bonus Exercise:** This exercise is optional, but if you implement it you will receive a bonus. Moreover, it will make the following exercise much easier (+ it will help you in the future in general). Let's create a class containing all the neccessary functions to train a Logistic Regression model and make predictions.\n",
        "\n",
        "**self** represents the instance of the class. By using the **self** keyword we can access the attributes (public variables) and methods (functions) of the class in python [Source](https://www.geeksforgeeks.org/self-in-python-class/). It binds the attributes with the given arguments of an instance. Therefore, for the class MyLogisticRegression, we can create an instance of this class:\n",
        "\n",
        "```\n",
        "lr = MyLogisticRegression(...)\n",
        "```\n",
        "And we can use its public variables and methods\n",
        "```\n",
        "lr.num_iterations = 2000\n",
        "print(lr.num_iterations) #Will print the public variable\n",
        "```\n",
        "Hint: Inside the class, any shared public variable x should be accessed through 'self.x'.\n",
        "```\n",
        "def inner_function (self, y):\n",
        "  print(self.x, y)\n",
        "```"
      ]
    },
    {
      "cell_type": "code",
      "execution_count": null,
      "metadata": {
        "colab": {
          "background_save": true
        },
        "id": "esOzs2-KeUCx"
      },
      "outputs": [],
      "source": [
        "from numpy import exp\n",
        "\n",
        "class MyLogisticRegression:\n",
        "    def __init__(self, num_iterations=2000, learning_rate=0.004):\n",
        "      self.w = None\n",
        "      self.b = None\n",
        "      self.num_iterations = num_iterations\n",
        "      self.learning_rate = learning_rate\n",
        "\n",
        "    def _sigmoid(self, t):\n",
        "        s = 1 / (1 + exp(-t))\n",
        "        return s\n",
        "\n",
        "    def _initialize(self, dim):\n",
        "        self.w = np.zeros((dim,))\n",
        "        self.b = 0.0\n",
        "        assert(self.w.shape == (dim,))\n",
        "        assert(isinstance(self.b,float) or isinstance(self.b,int))\n",
        "        #Note here that there should be no return command, because this function saves w and b in self (public variables of each instance)\n",
        "\n",
        "    def _compute_cost(self, X, Y):\n",
        "        bw = np.array([self.b]+list(self.w))\n",
        "        X = np.c_[np.ones((X.shape[0],1)), X]\n",
        "        sigma = self._sigmoid(np.dot(X,bw))\n",
        "        cost = (-1)*np.sum((Y*np.log(sigma) + (1-Y)*np.log(1-sigma)))/len(Y)\n",
        "        return sigma,cost\n",
        "\n",
        "\n",
        "    def _gradient(self, X, Y, sigma):\n",
        "        bw = np.array([self.b]+list(self.w))\n",
        "        X = np.c_[np.ones((X.shape[0], 1)), X]\n",
        "        grad = np.dot(X.T,sigma - Y)/len(Y)\n",
        "        dw = grad[1:]\n",
        "        db = grad[0]\n",
        "        return dw,db\n",
        "\n",
        "    def _update_parameters(self, X, Y):\n",
        "        for i in range(self.num_iterations):\n",
        "          w_prev = self.w\n",
        "          b_prev = self.b\n",
        "\n",
        "          sigma,cost = self._compute_cost(X,Y)\n",
        "          dw,db = self._gradient(X,Y,sigma)\n",
        "\n",
        "          self.w = w_prev - self.learning_rate * dw\n",
        "          self.b = b_prev - self.learning_rate * db\n",
        "\n",
        "        return dw,db\n",
        "\n",
        "\n",
        "    def predict(self, X):\n",
        "        p = X.shape[0]\n",
        "        Y_prediction = np.zeros((p,))\n",
        "        bw = np.array([self.b]+list(self.w))\n",
        "        X = np.c_[np.ones((X.shape[0], 1)), X]\n",
        "        sigma = self._sigmoid(np.dot(X,bw))\n",
        "        Y_prediction = np.array([0 if i<0.5 else 1 for i in sigma])\n",
        "\n",
        "        assert(Y_prediction.shape == (p,))\n",
        "        return Y_prediction\n",
        "\n",
        "    def fit_evaluate(self, X_train, Y_train, X_test, Y_test):\n",
        "        self._initialize(len(X[0]))\n",
        "        dw, db = self._update_parameters(X_train, Y_train)\n",
        "\n",
        "        Y_prediction_test = self.predict(X_test)\n",
        "        Y_prediction_train = self.predict(X_train)\n",
        "\n",
        "        print(\"train accuracy: {} %\".format(100 - np.mean(np.abs(Y_prediction_train - Y_train)) * 100))\n",
        "        print(\"test accuracy: {} %\".format(100 - np.mean(np.abs(Y_prediction_test - Y_test)) * 100))\n",
        "\n",
        "        d = {\"Y_prediction_test\": Y_prediction_test,\n",
        "             \"Y_prediction_train\": Y_prediction_train,\n",
        "             \"w\" : w,\n",
        "             \"b\" : b,\n",
        "             \"learning_rate\" : self.learning_rate,\n",
        "             \"num_iterations\" : self.num_iterations\n",
        "\n",
        "        }\n",
        "        return d"
      ]
    },
    {
      "cell_type": "code",
      "execution_count": null,
      "metadata": {
        "colab": {
          "background_save": true
        },
        "id": "fHQgqRe5786m"
      },
      "outputs": [],
      "source": [
        "linearModel = MyLogisticRegression(1000, 0.0001)\n",
        "d = linearModel.fit_evaluate(X_train, y_train, X_test, y_test)"
      ]
    },
    {
      "cell_type": "markdown",
      "metadata": {
        "id": "cL4U8X6rodey"
      },
      "source": [
        "## 3.0 Regularization ## (2 points)\n",
        "\n",
        "Rewrite any of the above functions in the below block so as the Logistic Regression to have the option to run with **L1** and **L2** regularization. Rewrite only the functions needed. (Tip: If you use the class, this excercise is much easier. You should rewrite the class, changing the constructor of the class and only one more function to implement the regularization. Then, you will be able to call those commands for the different regularization parameters)\n",
        "\n",
        "```\n",
        "linearModel = MyLogisticRegression(1000, 0.0001, 'l1')\n",
        "linearModel = MyLogisticRegression(1000, 0.0001, 'l2')\n",
        "```\n"
      ]
    },
    {
      "cell_type": "code",
      "execution_count": null,
      "metadata": {
        "colab": {
          "background_save": true
        },
        "id": "oemHripT8nvE"
      },
      "outputs": [],
      "source": [
        "### BEGIN CODE HERE\n",
        "class MyLogisticRegressionRegularization(MyLogisticRegression):\n",
        "  def __init__(self,num_iterations=2000,learning_rate=0.004,regularization=None, reg_lambda=1):\n",
        "    self.regularization = regularization\n",
        "    self.reg_lambda = reg_lambda\n",
        "    self.w = None\n",
        "    self.b = None\n",
        "    self.num_iterations = num_iterations\n",
        "    self.learning_rate = learning_rate\n",
        "\n",
        "  def __compute_cost(self, X, Y):\n",
        "        \"\"\"\n",
        "        Arguments:\n",
        "        X -- input data\n",
        "        Y -- target or label vector\n",
        "        Return:\n",
        "        sigma -- the sigmoid of the z\n",
        "        cost -- cost for logistic regression\n",
        "        \"\"\"\n",
        "        # BEGIN CODE HERE\n",
        "        bw = np.concatenate([[self.b], self.w])\n",
        "        X = np.concatenate([np.ones((X.shape[0], 1)), X], axis=1)\n",
        "        sigma = self._sigmoid(np.dot(X, bw))\n",
        "        cost = -(Y*np.log(sigma) + (1-Y)*np.log(1 - sigma)).mean()\n",
        "        if self.regularization == 'l1':\n",
        "            cost += np.abs(bw).sum() * (self.reg_lambda)\n",
        "        if self.regularization == 'l2':\n",
        "            cost += np.square(bw).sum() * (self.reg_lambda)\n",
        "\n",
        "        return sigma, cost\n",
        "\n",
        "  def _gradient(self, X, Y, sigma):\n",
        "        \"\"\"\n",
        "        Arguments:\n",
        "        X -- input data\n",
        "        Y -- target or label vector\n",
        "        sigma -- the sigmoid of the z\n",
        "        Return:\n",
        "        dw -- gradient of the loss with respect to w (numpy array)\n",
        "        db -- gradient of the loss with respect to b (scalar)\n",
        "        \"\"\"\n",
        "        bw = np.concatenate([[self.b], self.w])\n",
        "        X =  np.concatenate([np.ones((X.shape[0], 1)), X], axis=1)\n",
        "        grad = np.dot(X.T, (sigma - Y)) / X.shape[0]\n",
        "        if self.regularization == 'l2':\n",
        "            grad += (self.reg_lambda)*bw\n",
        "        if self.regularization == 'l1':\n",
        "            grad += (self.reg_lambda) * np.sign(bw)\n",
        "        dw = grad[1:]\n",
        "        db = grad[0]\n",
        "\n",
        "        return dw, db\n",
        "\n",
        "\n",
        "#END CODE HERE"
      ]
    },
    {
      "cell_type": "code",
      "execution_count": null,
      "metadata": {
        "colab": {
          "background_save": true
        },
        "id": "4SyI-VtVvefd"
      },
      "outputs": [],
      "source": [
        "#You can freely test your code here\n",
        "linearModel = MyLogisticRegressionRegularization(10000, 0.0003, 'l1', 1)\n",
        "d = linearModel.fit_evaluate(X_train, y_train, X_test, y_test)"
      ]
    },
    {
      "cell_type": "code",
      "execution_count": null,
      "metadata": {
        "colab": {
          "background_save": true
        },
        "id": "AfgVdPsuzHDN"
      },
      "outputs": [],
      "source": [
        "linearModel = MyLogisticRegressionRegularization(10000,0.0003, 'l2',1)\n",
        "d = linearModel.fit_evaluate(X_train, y_train, X_test, y_test)"
      ]
    },
    {
      "cell_type": "markdown",
      "metadata": {
        "id": "5UsPoeQ8VpmV"
      },
      "source": [
        "## **Questions** ## (1 point)\n",
        "\n",
        "Answer below!\n",
        "1. What is the purpose of splitting the data into training and testing sets? [0.1]\n",
        "2. What is the role of the intercept in linear regression? Why is it important? [0.1]\n",
        "3. Your model should achieve around 70% accuracy in the test set. If you want to improve the accuracy what changes you should make? Report the changes and the results. [0.2]\n",
        "4. Besides using a specific number of iterations for your model what else you can do to stop the training? [0.2]\n",
        "5. Do you notice any differences when using the L1 or L2 regularization? Is so, why? If not, why? (Answer based on what you've learned in class) [0.2]\n",
        "6. What are some common applications of linear models in real-world scenarios? How do these models compare to other machine learning algorithms in terms of performance, and interpretability? [0.2]\n",
        "\n",
        "Bonus Question:\n",
        "*What parts of this assignment were not clear or misleading? Are there any other comments on this assignment?*"
      ]
    },
    {
      "cell_type": "code",
      "execution_count": null,
      "metadata": {
        "colab": {
          "background_save": true
        },
        "id": "TNz5dOTw8hWz"
      },
      "outputs": [],
      "source": [
        "1. Σκοπός του διαχωρισμού των δεδομένων σε σύνολα εκπαίδευσης και δοκιμής είναι η πρόβλεψη της ακρίβειας και γενικά η αξιολόγηση της απόδοσης του μοντέλου. Με τη χρήση του\n",
        "συνόλου εκπαίδευσης εκτιμούμε διάφορες παραμέτρους και ελέγχουμε αν το μοντέλο λειτουργεί σωστά με το σύνολο δοκιμής\n",
        "2. Ο ρόλος της τομής αφορά την εύρεση του σημείου όπου η συνάρτηση τέμνει τον άξονα y. Αυτό είναι σημαντικό, διότι σε ορισμένες περιπτώσεις, το μοντέλο αποκτά σημασία\n",
        " μόνο όταν αφαιρούμε την τομή και η γραμμή παλινδρόμησης μειώνεται σε Y = bX + σφάλμα\n",
        "4. Εκτός του συγκεκριμένου πλήθους επαναλήψεων, ένας τρόπος να σταματήσει η εκπαίδευση του μοντέλου είναι κατά τη διάρκεια εκτέλεσης του αλγορίθμου να χρησιμοποιηθεί\n",
        "ένα κριτήριο σύγκλισης και όταν αυτό ικανοποιηθεί, ο αλγόριθμος να τερματίζει. Ένα τέτοιο κριτήριο θα μπορούσε να είναι κάποιος έλεγχος σχετικά με την απόκλιση του\n",
        "σφάλματος εκπαίδευσης.\n",
        "5. Δοκιμάζοντας στο μοντέλο της εργασίας τις κανονικοποιήσεις L1 και L2, παρατηρείται μεγαλύτερη απόδοση τόσο στο σύνολο εκπαίδευσης όσο και στο σύνολο δοκιμής όταν\n",
        "χρησιμοποιείται η δεύτερη. Όσον αφορά τη θεωρία και τον υπολογισμό της loss function, η l1 χρησιμοποιεί το άθροισμα των απόλυτων τιμών των βαρών ενώ η l2\n",
        " το άθροισμα των τετραγώνων των βαρών.\n",
        "6. Τα γραμμικά μοντέλα μπορεί να περιλαμβάνονται σε σενάρια πραγματικού κόσμου όπως στον υπολογισμό της μεταβολής του πληθυσμού, τις χρεώσεις τηλεφωνικών κλήσεων και\n",
        "τη διαχείρηση βάρους. Εύλογα αυτό γίνεται κατανοητό καθώς ένα γραμμικό μοντέλο περιέχει τον ρυθμό μεταβολής, το αρχικό ποσό και το y-intercept(διακοπή). Τα γραμμικά\n",
        "μοντέλα είναι εύκολο να ερμηνευθούν και να πετύχουν καλή απόδοση σε προβλήματα πρόβλεψης ή κατηγοριοποίησης φέρνοντας επιπλέον καλά αποτελέσματα σε περιπτώσεις που\n",
        "η σχέση ανάμεσα στα χαρακτηριστικά και την έξοδο, είναι απλή. Ωστόσο σε προβλήματα μεγαλύτερης πολυπλοκότητας ή μη γραμμικότητας, ενδείκνυται η χρήση άλλων αλγορίθμων μηχανικής\n",
        "μάθησης, όπως τα νευρωνικά δίκτυα και τα δέντρα απόφασης. Τα νευρωνικά δίκτυα έχουν την ικανότητα να εξάγουν μη γραμμικές σχέσεις ανάμεσα στις μεταβλητές και να βελτιώσουν\n",
        "σημαντικά την απόδοση εξάγοντας αυτόματα χαρακτηριστικά σε προβλήματα που είναι ανέφικτο να προσδιοριστούν εκ των προτέρων. Όσον αφορά τα δέντρα απόφασης, είναι πιο εύκολο\n",
        "να ερμηνευθούν και να συμβάλλουν στην μεγαλύτερη κατανόηση από τον άνθρωπο σχετικά με τις προβλέψεις και την σημαντικότητα κάποιων μεταβλητών. Επιπλέον, τα δέντρα μπορούν\n",
        "να αντιμετωπίσουν προβλήματα συσχετισμένα με την αστάθεια, όπως είναι η ανεπιθύμητη επίδραση ακραίων τιμών.\n",
        "\n",
        "Bonus: Η εργασία ήταν αρκετά κατανοητή και τα tasks βοηθούσαν να οδηγηθεί ο φοιτητής προς τη λύση\n"
      ]
    }
  ],
  "metadata": {
    "colab": {
      "provenance": []
    },
    "kernelspec": {
      "display_name": "Python 3",
      "language": "python",
      "name": "python3"
    },
    "language_info": {
      "codemirror_mode": {
        "name": "ipython",
        "version": 3
      },
      "file_extension": ".py",
      "mimetype": "text/x-python",
      "name": "python",
      "nbconvert_exporter": "python",
      "pygments_lexer": "ipython3",
      "version": "3.8.9"
    },
    "vscode": {
      "interpreter": {
        "hash": "31f2aee4e71d21fbe5cf8b01ff0e069b9275f58929596ceb00d14d90e3e16cd6"
      }
    }
  },
  "nbformat": 4,
  "nbformat_minor": 0
}